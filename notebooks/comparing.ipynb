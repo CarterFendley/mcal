{
 "cells": [
  {
   "cell_type": "code",
   "execution_count": 15,
   "metadata": {},
   "outputs": [],
   "source": [
    "%load_ext autoreload\n",
    "%autoreload 2"
   ]
  },
  {
   "cell_type": "code",
   "execution_count": 1,
   "metadata": {},
   "outputs": [],
   "source": [
    "from k_calibrate.orchestrate import load_run, CalibrationRun\n",
    "\n",
    "RUN_PATH = '../kc_run_data/2025-01-28_01:34:13_UTC_timestamp_issue'\n",
    "RUN_PATH = '../kc_run_data/2025-02-01_23:03:39_UTC'\n",
    "run = load_run(RUN_PATH)"
   ]
  },
  {
   "cell_type": "code",
   "execution_count": 2,
   "metadata": {},
   "outputs": [
    {
     "data": {
      "text/html": [
       "<div>\n",
       "<style scoped>\n",
       "    .dataframe tbody tr th:only-of-type {\n",
       "        vertical-align: middle;\n",
       "    }\n",
       "\n",
       "    .dataframe tbody tr th {\n",
       "        vertical-align: top;\n",
       "    }\n",
       "\n",
       "    .dataframe thead th {\n",
       "        text-align: right;\n",
       "    }\n",
       "</style>\n",
       "<table border=\"1\" class=\"dataframe\">\n",
       "  <thead>\n",
       "    <tr style=\"text-align: right;\">\n",
       "      <th></th>\n",
       "      <th>cpuUsedCores</th>\n",
       "      <th>memoryUsedBytes</th>\n",
       "      <th>namespaceName</th>\n",
       "      <th>podName</th>\n",
       "      <th>timestamp</th>\n",
       "    </tr>\n",
       "  </thead>\n",
       "  <tbody>\n",
       "    <tr>\n",
       "      <th>0</th>\n",
       "      <td>0.022568</td>\n",
       "      <td>44879872.0</td>\n",
       "      <td>newrelic</td>\n",
       "      <td>newrelic-bundle-nrk8s-controlplane-w5qx2</td>\n",
       "      <td>2025-02-01 23:03:39+00:00</td>\n",
       "    </tr>\n",
       "    <tr>\n",
       "      <th>1</th>\n",
       "      <td>0.002576</td>\n",
       "      <td>13414400.0</td>\n",
       "      <td>newrelic</td>\n",
       "      <td>newrelic-bundle-kube-state-metrics-865c5c8878-...</td>\n",
       "      <td>2025-02-01 23:03:39+00:00</td>\n",
       "    </tr>\n",
       "    <tr>\n",
       "      <th>2</th>\n",
       "      <td>0.005128</td>\n",
       "      <td>32976896.0</td>\n",
       "      <td>newrelic</td>\n",
       "      <td>newrelic-bundle-nrk8s-ksm-67587bbcff-ldxgk</td>\n",
       "      <td>2025-02-01 23:03:39+00:00</td>\n",
       "    </tr>\n",
       "    <tr>\n",
       "      <th>3</th>\n",
       "      <td>0.021396</td>\n",
       "      <td>29093888.0</td>\n",
       "      <td>kube-system</td>\n",
       "      <td>kube-scheduler-kc-dev-c2b8b0d3-dede-462d-b675-...</td>\n",
       "      <td>2025-02-01 23:03:39+00:00</td>\n",
       "    </tr>\n",
       "    <tr>\n",
       "      <th>4</th>\n",
       "      <td>0.005398</td>\n",
       "      <td>33869824.0</td>\n",
       "      <td>newrelic</td>\n",
       "      <td>newrelic-bundle-nri-kube-events-685b49dcc9-mnmml</td>\n",
       "      <td>2025-02-01 23:03:39+00:00</td>\n",
       "    </tr>\n",
       "    <tr>\n",
       "      <th>...</th>\n",
       "      <td>...</td>\n",
       "      <td>...</td>\n",
       "      <td>...</td>\n",
       "      <td>...</td>\n",
       "      <td>...</td>\n",
       "    </tr>\n",
       "    <tr>\n",
       "      <th>295</th>\n",
       "      <td>0.000605</td>\n",
       "      <td>8056832.0</td>\n",
       "      <td>local-path-storage</td>\n",
       "      <td>local-path-provisioner-58cc7856b6-49vtn</td>\n",
       "      <td>2025-02-01 23:04:39+00:00</td>\n",
       "    </tr>\n",
       "    <tr>\n",
       "      <th>296</th>\n",
       "      <td>0.003222</td>\n",
       "      <td>20123648.0</td>\n",
       "      <td>newrelic</td>\n",
       "      <td>newrelic-bundle-newrelic-logging-566jw</td>\n",
       "      <td>2025-02-01 23:04:39+00:00</td>\n",
       "    </tr>\n",
       "    <tr>\n",
       "      <th>297</th>\n",
       "      <td>0.083174</td>\n",
       "      <td>42840064.0</td>\n",
       "      <td>newrelic</td>\n",
       "      <td>newrelic-bundle-newrelic-prometheus-agent-0</td>\n",
       "      <td>2025-02-01 23:04:39+00:00</td>\n",
       "    </tr>\n",
       "    <tr>\n",
       "      <th>298</th>\n",
       "      <td>0.007088</td>\n",
       "      <td>16158720.0</td>\n",
       "      <td>default</td>\n",
       "      <td>metrics-server-6fdb59879c-ddp7l</td>\n",
       "      <td>2025-02-01 23:03:09+00:00</td>\n",
       "    </tr>\n",
       "    <tr>\n",
       "      <th>299</th>\n",
       "      <td>0.006053</td>\n",
       "      <td>16637952.0</td>\n",
       "      <td>default</td>\n",
       "      <td>metrics-server-6fdb59879c-v6hnb</td>\n",
       "      <td>2025-02-01 22:59:55+00:00</td>\n",
       "    </tr>\n",
       "  </tbody>\n",
       "</table>\n",
       "<p>300 rows × 5 columns</p>\n",
       "</div>"
      ],
      "text/plain": [
       "     cpuUsedCores  memoryUsedBytes       namespaceName  \\\n",
       "0        0.022568       44879872.0            newrelic   \n",
       "1        0.002576       13414400.0            newrelic   \n",
       "2        0.005128       32976896.0            newrelic   \n",
       "3        0.021396       29093888.0         kube-system   \n",
       "4        0.005398       33869824.0            newrelic   \n",
       "..            ...              ...                 ...   \n",
       "295      0.000605        8056832.0  local-path-storage   \n",
       "296      0.003222       20123648.0            newrelic   \n",
       "297      0.083174       42840064.0            newrelic   \n",
       "298      0.007088       16158720.0             default   \n",
       "299      0.006053       16637952.0             default   \n",
       "\n",
       "                                               podName  \\\n",
       "0             newrelic-bundle-nrk8s-controlplane-w5qx2   \n",
       "1    newrelic-bundle-kube-state-metrics-865c5c8878-...   \n",
       "2           newrelic-bundle-nrk8s-ksm-67587bbcff-ldxgk   \n",
       "3    kube-scheduler-kc-dev-c2b8b0d3-dede-462d-b675-...   \n",
       "4     newrelic-bundle-nri-kube-events-685b49dcc9-mnmml   \n",
       "..                                                 ...   \n",
       "295            local-path-provisioner-58cc7856b6-49vtn   \n",
       "296             newrelic-bundle-newrelic-logging-566jw   \n",
       "297        newrelic-bundle-newrelic-prometheus-agent-0   \n",
       "298                    metrics-server-6fdb59879c-ddp7l   \n",
       "299                    metrics-server-6fdb59879c-v6hnb   \n",
       "\n",
       "                    timestamp  \n",
       "0   2025-02-01 23:03:39+00:00  \n",
       "1   2025-02-01 23:03:39+00:00  \n",
       "2   2025-02-01 23:03:39+00:00  \n",
       "3   2025-02-01 23:03:39+00:00  \n",
       "4   2025-02-01 23:03:39+00:00  \n",
       "..                        ...  \n",
       "295 2025-02-01 23:04:39+00:00  \n",
       "296 2025-02-01 23:04:39+00:00  \n",
       "297 2025-02-01 23:04:39+00:00  \n",
       "298 2025-02-01 23:03:09+00:00  \n",
       "299 2025-02-01 22:59:55+00:00  \n",
       "\n",
       "[300 rows x 5 columns]"
      ]
     },
     "execution_count": 2,
     "metadata": {},
     "output_type": "execute_result"
    }
   ],
   "source": [
    "nr_data = run.collected_data['NRTop']\n",
    "nr_data"
   ]
  },
  {
   "cell_type": "code",
   "execution_count": 3,
   "metadata": {},
   "outputs": [
    {
     "name": "stdout",
     "output_type": "stream",
     "text": [
      "dict_keys(['NRTop', 'KubectlTop'])\n",
      "Index(['namespaceName', 'podName', 'cpuUsedCores', 'memoryUsedBytes',\n",
      "       'timestamp'],\n",
      "      dtype='object')\n"
     ]
    }
   ],
   "source": [
    "print(run.collected_data.keys())\n",
    "\n",
    "# Map Kubectl names to NR names\n",
    "run.collected_data['KubectlTop'].rename(\n",
    "    columns={\n",
    "        'NAMESPACE': 'namespaceName',\n",
    "        'NAME': 'podName',\n",
    "        'CPU(cores)': 'cpuUsedCores',\n",
    "        'MEMORY(bytes)': 'memoryUsedBytes'\n",
    "    },\n",
    "    inplace=True\n",
    ")\n",
    "print(run.collected_data['KubectlTop'].columns)"
   ]
  },
  {
   "cell_type": "code",
   "execution_count": 18,
   "metadata": {},
   "outputs": [],
   "source": [
    "from k_calibrate.compare import Compare\n",
    "\n",
    "# compare = Compare(run, ['podName'])\n",
    "compare = Compare(run)"
   ]
  },
  {
   "cell_type": "code",
   "execution_count": 19,
   "metadata": {},
   "outputs": [
    {
     "name": "stderr",
     "output_type": "stream",
     "text": [
      "[kc] WARNING - { k_calibrate.compare:65 @ 2025-02-01 19:08:47,080 } - Number of unique timestamps does not equal the number of unique records, this may indicate that the timestamp is not full indicative of all data collection periods. (dataset=NRTop, unique_timestamps=8, unique_records=102)\n",
      "[kc] WARNING - { k_calibrate.compare:65 @ 2025-02-01 19:08:47,080 } - Maybe you need an 'iterate_by' condition on your Compare instance?\n",
      "[kc] WARNING - { k_calibrate.compare:65 @ 2025-02-01 19:08:47,083 } - Number of unique timestamps does not equal the number of unique records, this may indicate that the timestamp is not full indicative of all data collection periods. (dataset=KubectlTop, unique_timestamps=15, unique_records=270)\n",
      "[kc] WARNING - { k_calibrate.compare:65 @ 2025-02-01 19:08:47,084 } - Maybe you need an 'iterate_by' condition on your Compare instance?\n"
     ]
    },
    {
     "name": "stdout",
     "output_type": "stream",
     "text": [
      "NRTop\n",
      "KubectlTop\n"
     ]
    }
   ],
   "source": [
    "from k_calibrate.compare import filter_timestamps\n",
    "\n",
    "filter_timestamps(compare.yield_data())"
   ]
  },
  {
   "cell_type": "code",
   "execution_count": null,
   "metadata": {},
   "outputs": [],
   "source": []
  }
 ],
 "metadata": {
  "kernelspec": {
   "display_name": "k-calibrate",
   "language": "python",
   "name": "python3"
  },
  "language_info": {
   "codemirror_mode": {
    "name": "ipython",
    "version": 3
   },
   "file_extension": ".py",
   "mimetype": "text/x-python",
   "name": "python",
   "nbconvert_exporter": "python",
   "pygments_lexer": "ipython3",
   "version": "3.10.16"
  }
 },
 "nbformat": 4,
 "nbformat_minor": 2
}
